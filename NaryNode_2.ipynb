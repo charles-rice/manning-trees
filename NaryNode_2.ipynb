{
 "cells": [
  {
   "cell_type": "code",
   "execution_count": 3,
   "id": "db40cfb4",
   "metadata": {},
   "outputs": [],
   "source": [
    "class NaryNode:\n",
    "    indent = \"  \"\n",
    "    def __init__(self, value):\n",
    "        self.value = value\n",
    "        self.children = []\n",
    "        \n",
    "    def add_child(self, child):\n",
    "        self.children.append(child)\n",
    "        \n",
    "    def __str__(self, level=0):\n",
    "        result = level * NaryNode.indent + f'{self.value}:\\n'\n",
    "        for child in self.children:\n",
    "            result += child.__str__(level + 1)\n",
    "        return result"
   ]
  },
  {
   "cell_type": "code",
   "execution_count": 4,
   "id": "9f5d3434",
   "metadata": {},
   "outputs": [],
   "source": [
    "## Test Code\n",
    "root = NaryNode(\"Root\")\n",
    "a = NaryNode(\"A\")\n",
    "\n",
    "root.add_child(a)\n",
    "\n",
    "b = NaryNode(\"B\")\n",
    "c = NaryNode(\"C\")\n",
    "d = NaryNode(\"D\")\n",
    "e = NaryNode(\"E\")\n",
    "f = NaryNode(\"F\")\n",
    "g = NaryNode(\"G\")\n",
    "h = NaryNode(\"H\")\n",
    "i = NaryNode(\"I\")\n",
    "\n",
    "root.add_child(b)\n",
    "root.add_child(c)\n",
    "\n",
    "a.add_child(d)\n",
    "a.add_child(e)\n",
    "\n",
    "d.add_child(g)\n",
    "\n",
    "c.add_child(f)\n",
    "\n",
    "f.add_child(h)\n",
    "f.add_child(i)"
   ]
  },
  {
   "cell_type": "code",
   "execution_count": 5,
   "id": "8a820673",
   "metadata": {},
   "outputs": [
    {
     "name": "stdout",
     "output_type": "stream",
     "text": [
      "Root:\n",
      "  A:\n",
      "    D:\n",
      "      G:\n",
      "    E:\n",
      "  B:\n",
      "  C:\n",
      "    F:\n",
      "      H:\n",
      "      I:\n",
      "\n"
     ]
    }
   ],
   "source": [
    "print(root)"
   ]
  },
  {
   "cell_type": "code",
   "execution_count": 6,
   "id": "4f982413",
   "metadata": {},
   "outputs": [
    {
     "name": "stdout",
     "output_type": "stream",
     "text": [
      "A:\n",
      "  D:\n",
      "    G:\n",
      "  E:\n",
      "\n"
     ]
    }
   ],
   "source": [
    "print(a)"
   ]
  },
  {
   "cell_type": "code",
   "execution_count": null,
   "id": "1c271a86",
   "metadata": {},
   "outputs": [],
   "source": []
  }
 ],
 "metadata": {
  "kernelspec": {
   "display_name": "Python 3 (ipykernel)",
   "language": "python",
   "name": "python3"
  },
  "language_info": {
   "codemirror_mode": {
    "name": "ipython",
    "version": 3
   },
   "file_extension": ".py",
   "mimetype": "text/x-python",
   "name": "python",
   "nbconvert_exporter": "python",
   "pygments_lexer": "ipython3",
   "version": "3.9.16"
  }
 },
 "nbformat": 4,
 "nbformat_minor": 5
}
