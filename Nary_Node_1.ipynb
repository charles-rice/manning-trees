{
 "cells": [
  {
   "cell_type": "code",
   "execution_count": 1,
   "id": "1639b864",
   "metadata": {},
   "outputs": [],
   "source": [
    "class NaryNode:\n",
    "    def __init__(self, value):\n",
    "        self.value = value\n",
    "        self.children = []\n",
    "        \n",
    "    def add_child(self, child):\n",
    "        self.children.append(child)\n",
    "        \n",
    "    def __str__(self):\n",
    "        result = f'{self.value}:'\n",
    "        for child in self.children:\n",
    "            result += f' {child.value}'\n",
    "        return result"
   ]
  },
  {
   "cell_type": "code",
   "execution_count": 2,
   "id": "c9f95f2d",
   "metadata": {},
   "outputs": [],
   "source": [
    "root = NaryNode(\"Root\")\n",
    "a = NaryNode(\"A\")"
   ]
  },
  {
   "cell_type": "code",
   "execution_count": 3,
   "id": "4352d2bd",
   "metadata": {},
   "outputs": [],
   "source": [
    "root.add_child(a)"
   ]
  },
  {
   "cell_type": "code",
   "execution_count": 4,
   "id": "9ca19e07",
   "metadata": {},
   "outputs": [
    {
     "name": "stdout",
     "output_type": "stream",
     "text": [
      "Root: A\n"
     ]
    }
   ],
   "source": [
    "print(root)"
   ]
  },
  {
   "cell_type": "code",
   "execution_count": 5,
   "id": "4cd9c6ab",
   "metadata": {},
   "outputs": [],
   "source": [
    "b = NaryNode(\"B\")\n",
    "c = NaryNode(\"C\")\n",
    "d = NaryNode(\"D\")\n",
    "e = NaryNode(\"E\")\n",
    "f = NaryNode(\"F\")\n",
    "g = NaryNode(\"G\")\n",
    "h = NaryNode(\"H\")\n",
    "i = NaryNode(\"I\")"
   ]
  },
  {
   "cell_type": "code",
   "execution_count": 7,
   "id": "1e790d90",
   "metadata": {},
   "outputs": [],
   "source": [
    "root.add_child(b)\n",
    "root.add_child(c)"
   ]
  },
  {
   "cell_type": "code",
   "execution_count": 8,
   "id": "85418d69",
   "metadata": {},
   "outputs": [],
   "source": [
    "a.add_child(d)\n",
    "a.add_child(e)"
   ]
  },
  {
   "cell_type": "code",
   "execution_count": 9,
   "id": "e5171ab5",
   "metadata": {},
   "outputs": [],
   "source": [
    "d.add_child(g)"
   ]
  },
  {
   "cell_type": "code",
   "execution_count": 10,
   "id": "a276ed85",
   "metadata": {},
   "outputs": [],
   "source": [
    "c.add_child(f)"
   ]
  },
  {
   "cell_type": "code",
   "execution_count": 11,
   "id": "8f1491ee",
   "metadata": {},
   "outputs": [],
   "source": [
    "f.add_child(h)\n",
    "f.add_child(i)"
   ]
  },
  {
   "cell_type": "code",
   "execution_count": 12,
   "id": "7a4b6243",
   "metadata": {},
   "outputs": [
    {
     "name": "stdout",
     "output_type": "stream",
     "text": [
      "Root: A B C\n"
     ]
    }
   ],
   "source": [
    "print(root)"
   ]
  },
  {
   "cell_type": "code",
   "execution_count": 16,
   "id": "6a68083d",
   "metadata": {},
   "outputs": [
    {
     "name": "stdout",
     "output_type": "stream",
     "text": [
      "Root: A B C\n",
      "A: D E\n",
      "B:\n",
      "C: F\n",
      "D: G\n",
      "E:\n",
      "F: H I\n",
      "G:\n",
      "H:\n",
      "I:\n"
     ]
    }
   ],
   "source": [
    "print(root)\n",
    "print(a)\n",
    "print(b)\n",
    "print(c)\n",
    "print(d)\n",
    "print(e)\n",
    "print(f)\n",
    "print(g)\n",
    "print(h)\n",
    "print(i)"
   ]
  },
  {
   "cell_type": "code",
   "execution_count": null,
   "id": "49960c54",
   "metadata": {},
   "outputs": [],
   "source": []
  }
 ],
 "metadata": {
  "kernelspec": {
   "display_name": "Python 3 (ipykernel)",
   "language": "python",
   "name": "python3"
  },
  "language_info": {
   "codemirror_mode": {
    "name": "ipython",
    "version": 3
   },
   "file_extension": ".py",
   "mimetype": "text/x-python",
   "name": "python",
   "nbconvert_exporter": "python",
   "pygments_lexer": "ipython3",
   "version": "3.9.16"
  }
 },
 "nbformat": 4,
 "nbformat_minor": 5
}
