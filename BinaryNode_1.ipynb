{
 "cells": [
  {
   "cell_type": "markdown",
   "id": "e462a20c",
   "metadata": {},
   "source": [
    "### Binary Node"
   ]
  },
  {
   "cell_type": "code",
   "execution_count": 1,
   "id": "1a2761bd",
   "metadata": {},
   "outputs": [],
   "source": [
    "class BinaryNode:\n",
    "    def __init__(self, value):\n",
    "        self.value = value\n",
    "        self.left_child = None\n",
    "        self.right_child = None\n",
    "    \n",
    "    def add_left(self, child):\n",
    "        self.left_child = child\n",
    "        \n",
    "    def add_right(self, child):\n",
    "        self.right_child = child\n",
    "        \n",
    "    #return string representation\n",
    "    def __str__(self):\n",
    "        result = f'{self.value}: '\n",
    "        if (self.left_child == None):\n",
    "            result += ' None'\n",
    "        else:\n",
    "            result += f' {self.left_child.value}'\n",
    "            \n",
    "        if (self.right_child == None):\n",
    "            result += ' None'\n",
    "        else:\n",
    "            result += f' {self.right_child.value}'\n",
    "        \n",
    "        return result"
   ]
  },
  {
   "cell_type": "code",
   "execution_count": 3,
   "id": "1399e560",
   "metadata": {},
   "outputs": [],
   "source": [
    "root = BinaryNode('Root')\n",
    "a = BinaryNode('A')"
   ]
  },
  {
   "cell_type": "code",
   "execution_count": 4,
   "id": "8fdcf7c8",
   "metadata": {},
   "outputs": [
    {
     "name": "stdout",
     "output_type": "stream",
     "text": [
      "Root:  None None\n"
     ]
    }
   ],
   "source": [
    "print(root)"
   ]
  },
  {
   "cell_type": "code",
   "execution_count": 4,
   "id": "e899047e",
   "metadata": {},
   "outputs": [],
   "source": [
    "root.add_left(a)"
   ]
  },
  {
   "cell_type": "code",
   "execution_count": 5,
   "id": "d12494f6",
   "metadata": {},
   "outputs": [],
   "source": [
    "c = BinaryNode('C')\n",
    "a.add_left(c)"
   ]
  },
  {
   "cell_type": "code",
   "execution_count": 6,
   "id": "6ddf22cd",
   "metadata": {},
   "outputs": [],
   "source": [
    "d = BinaryNode('D')\n",
    "a.add_right(d)"
   ]
  },
  {
   "cell_type": "code",
   "execution_count": 7,
   "id": "6193ecbb",
   "metadata": {},
   "outputs": [
    {
     "name": "stdout",
     "output_type": "stream",
     "text": [
      "Root:  A None\n"
     ]
    }
   ],
   "source": [
    "print(root)"
   ]
  },
  {
   "cell_type": "code",
   "execution_count": 8,
   "id": "0cad2111",
   "metadata": {},
   "outputs": [],
   "source": [
    "b = BinaryNode('B')\n",
    "root.add_right(b)"
   ]
  },
  {
   "cell_type": "code",
   "execution_count": 9,
   "id": "df4709e8",
   "metadata": {},
   "outputs": [
    {
     "name": "stdout",
     "output_type": "stream",
     "text": [
      "Root:  A B\n"
     ]
    }
   ],
   "source": [
    "print(root)"
   ]
  },
  {
   "cell_type": "code",
   "execution_count": 10,
   "id": "00285ba1",
   "metadata": {},
   "outputs": [],
   "source": [
    "e = BinaryNode('E')\n",
    "b.add_right(e)"
   ]
  },
  {
   "cell_type": "code",
   "execution_count": 11,
   "id": "93c67781",
   "metadata": {},
   "outputs": [],
   "source": [
    "f = BinaryNode('F')\n",
    "e.add_left(f)"
   ]
  },
  {
   "cell_type": "code",
   "execution_count": 14,
   "id": "bfa30a74",
   "metadata": {},
   "outputs": [
    {
     "name": "stdout",
     "output_type": "stream",
     "text": [
      "Root:  A B\n",
      "A:  C D\n",
      "B:  None E\n",
      "C:  None None\n",
      "D:  None None\n",
      "E:  F None\n",
      "F:  None None\n"
     ]
    }
   ],
   "source": [
    "print(root)\n",
    "print(a)\n",
    "print(b)\n",
    "print(c)\n",
    "print(d)\n",
    "print(e)\n",
    "print(f)"
   ]
  },
  {
   "cell_type": "code",
   "execution_count": null,
   "id": "346cdbb8",
   "metadata": {},
   "outputs": [],
   "source": []
  }
 ],
 "metadata": {
  "kernelspec": {
   "display_name": "Python 3 (ipykernel)",
   "language": "python",
   "name": "python3"
  },
  "language_info": {
   "codemirror_mode": {
    "name": "ipython",
    "version": 3
   },
   "file_extension": ".py",
   "mimetype": "text/x-python",
   "name": "python",
   "nbconvert_exporter": "python",
   "pygments_lexer": "ipython3",
   "version": "3.9.16"
  }
 },
 "nbformat": 4,
 "nbformat_minor": 5
}
